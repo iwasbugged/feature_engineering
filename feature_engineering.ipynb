{
 "metadata": {
  "language_info": {
   "codemirror_mode": {
    "name": "ipython",
    "version": 3
   },
   "file_extension": ".py",
   "mimetype": "text/x-python",
   "name": "python",
   "nbconvert_exporter": "python",
   "pygments_lexer": "ipython3",
   "version": "3.7.7-final"
  },
  "orig_nbformat": 2,
  "kernelspec": {
   "name": "Python 3.7.7 64-bit ('base': conda)",
   "display_name": "Python 3.7.7 64-bit ('base': conda)",
   "metadata": {
    "interpreter": {
     "hash": "3c8c3a880c14b61cd710572e2ac6298335c33509b1f7d3900bc107f98e9cc647"
    }
   }
  }
 },
 "nbformat": 4,
 "nbformat_minor": 2,
 "cells": [
  {
   "source": [
    "# Feature engineering\n",
    "\n",
    "feature engineering is one of the crucial parts of the building a good machine learning model. IF we have useful feature, the model will perform better. We must keep in mind that feature engineering is something that is done in best possible manner only when you have some knowledge about the domain of the problem and depends a lot on the data concern . However , there are some techniques that we can try to create features from almost all kinds of numerical and categorical variables. **feature engineering is not about creating new features from data but also includes different types of normalization and transformations.**\n",
    "\n",
    "Let's start with the most simple but most widely used feature engineering techniques. Let's say you are dealing with **data and time data** . So, we have a pandas dataframe with a datetime type column. Using this column, we can create features like:\n",
    "\n",
    "- Year\n",
    "- Week of Year\n",
    "- Month\n",
    "- Day of Week\n",
    "- Weekend\n",
    "- Hour\n",
    "- And many more\n",
    "\n",
    "and this can be done using pandas very easily\n"
   ],
   "cell_type": "markdown",
   "metadata": {}
  },
  {
   "cell_type": "code",
   "execution_count": null,
   "metadata": {},
   "outputs": [],
   "source": [
    "df.loc[:,'year'] = df['datetime_column'].dt.year \n",
    "df.loc[:,'weekofyear'] = df['datetime_column'].dt.weekofyear\n",
    "df.loc[:, 'month'] = df['datetime_column'].dt.month\n",
    "df.loc[:, 'dayofweek'] = df['datetime_column'].dt.dayofweek\n",
    "df.loc[: , 'weekend'] = (df[df.datetime_column.dt.weekday >= 5]).astype(int)"
   ]
  },
  {
   "source": [
    "So, we are creating a bunch of new columns using the datetime column. Let's see some of the sample feature that can be created."
   ],
   "cell_type": "markdown",
   "metadata": {}
  },
  {
   "source": [
    "import pandas as pd \n",
    "\n",
    "# create a series of datetime wiht a frequency of 10 hours\n",
    "\n",
    "s = pd.date_range('2020-01-06' , '2020-01-06', freq = '10H')\n",
    "\n",
    "#  creating some feature based on datatime\n",
    "\n",
    "feature = {\n",
    "    'dayofweek': s.dt.dayofweek.values,\n",
    "    'dayofyear': s.dt.dayofyear.values,\n",
    "    'hour' : s.dt.hour.values,\n",
    "    'is_leap_year' : s.dt.is_leap_year.values,\n",
    "    'quarter': s.dt.quarter.values,\n",
    "    'weekofyear': s.dt.weekofyear.values\n",
    "\n",
    "}"
   ],
   "cell_type": "code",
   "metadata": {},
   "execution_count": null,
   "outputs": []
  },
  {
   "source": [
    "This will generate a dictionary of features from a given series. you can apply this to any datetime column in a pandas dataframe . these are some of the many date time feature that pandas offer..\n",
    "\n",
    "For example , predicting sales of a store..\n",
    "we can easily extract feature like the year, month , quater, etc from the datetime column. Then we have *customer_id* column which might have multiple entries , so a customer is seen many times. and each date and customer id will have a bunch of categorical and numerical data . There are bunch of features we can create from it:\n",
    "\n",
    "- what is the month a customer is most active in\n",
    "- what is the count of cat1 , cat1, cat3 for a customer\n",
    "- what is the count of cat1 , cat2 , cat3 for a customer for a given week of the year\n",
    "- what is the mean of num1 for a given customer\n",
    "- And so on."
   ],
   "cell_type": "markdown",
   "metadata": {}
  },
  {
   "source": [
    "Using aggregates in pandas , it is quite easy to create features like these. let's see"
   ],
   "cell_type": "markdown",
   "metadata": {}
  },
  {
   "cell_type": "code",
   "execution_count": null,
   "metadata": {},
   "outputs": [],
   "source": [
    "def generate_features(df):\n",
    "    # create a bunch of features using the date column\n",
    "    df.loc[:, 'year'] = df['date'].dt.year\n",
    "    .\n",
    "    . \n",
    "    # and so on\n",
    "    \n",
    "    # create an aggregate dictionary\n",
    "    aggs = {}\n",
    "    # for aggregation by month , we calculate the number of unique month values and also the mean\n",
    "    aggs['month'] = ['nunique' , 'mean']\n",
    "    aggs['weekofyear'] = ['nunique' , 'mean']\n",
    "    # we aggregate by num1 and calculate sum , max, min, and mean values of this column\n",
    "    aggs['num1'] = ['sum' , 'max' , 'min', 'mean']\n",
    "    # for customer id we calculate the total count\n",
    "    aggs['customer_id'] = ['size']\n",
    "    # again for customer_id , we calculate the total unique\n",
    "    aggs['customer_id'] = ['nunique']\n",
    "\n",
    "    # we group by customer_id and calculate the aggregates\n",
    "    agg_df = df.groupby('customer_id').agg(aggs)\n",
    "    agg_df = agg_df.reset_index()\n",
    "    return agg_df"
   ]
  },
  {
   "source": [
    "After aggregating the data we can join them this dataframe with the original dataframe with *customer_id* column"
   ],
   "cell_type": "markdown",
   "metadata": {}
  },
  {
   "source": [
    "Sometimes , for example, when dealing with time-series problems, you might have features which are not individual values but a list of values. for example, transactions by a customer in a given period of time. In this case, we create different types of features such as : which numerical features, when you are grouping on a categorical column, you will get features like a list of values which are time distributed. In these cases, you can create a bunch of statistical featu such as :\n",
    "\n",
    "- Mean\n",
    "- Max\n",
    "- Min\n",
    "- Unique\n",
    "- Skew\n",
    "- Kurtosis\n",
    "- Kstat\n",
    "- Percentile\n",
    "- Quantile\n",
    "- Peak to Peak\n",
    "- And many more\n",
    "\n",
    "These can be created using simple numpy functions , as shown in the below"
   ],
   "cell_type": "markdown",
   "metadata": {}
  },
  {
   "cell_type": "code",
   "execution_count": null,
   "metadata": {},
   "outputs": [],
   "source": [
    "import numpy as np \n",
    "\n",
    "feature_dict = {}\n",
    "\n",
    "# calculate mean\n",
    "feature_dict['mean'] = np.mean(x)\n",
    "# calculate max\n",
    "feature_dict['max'] = np.max(x)\n",
    "# calculate min\n",
    "feature_dict['min'] = np.min(x)\n",
    "# calculate std\n",
    "feature_dict['std'] = np.std(x)\n",
    "# calculate variance\n",
    "feature_dict['var'] = np.var(x)\n",
    "# calculate peak to peak\n",
    "feature_dict['ptp'] = np.ptp(x)\n",
    "# percentile feautres\n",
    "feature_dict['percentile_10'] = np.percentile(x ,10)\n",
    "feature_dict['percentile_60'] = np.percentile(x , 60)\n",
    "feature_dict['percentile_90'] = np.percentile(x, 90)\n",
    "\n",
    "# quantile feature\n",
    "feature_dict['quantile_5'] = np.percentile(x, 5)\n",
    "feature_dict['quantile_95'] = np.percentile(x, 95)\n",
    "feature_dict['quantile_99'] = np.percentile(x , 99)"
   ]
  },
  {
   "source": [
    "The **time series data** (list of value) can be converted to a lot of features.\n",
    "\n",
    "A python library called *tsfresh* is instrumental in this case"
   ],
   "cell_type": "markdown",
   "metadata": {}
  },
  {
   "cell_type": "code",
   "execution_count": null,
   "metadata": {},
   "outputs": [],
   "source": [
    "from tsfresh.feature_extraction import feature_calculators as fc \n",
    "\n",
    "# tsfresh based features\n",
    "feature_dict['abs_energy'] = fc.abs_energy(x)\n",
    "feature_dict['count_above_mean'] = fc.count_above_mean(x)\n",
    "feature_dict['count_below_mean'] = fc.count_below_mean(x)\n",
    "feature_dict['mean_abs_change'] = fc.mean_abs_change(x)\n",
    "feature_dict['mean_change'] = fc.mean_change(x)"
   ]
  },
  {
   "cell_type": "code",
   "execution_count": null,
   "metadata": {},
   "outputs": [],
   "source": []
  }
 ]
}