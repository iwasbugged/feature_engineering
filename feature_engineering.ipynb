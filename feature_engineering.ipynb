{
 "metadata": {
  "language_info": {
   "codemirror_mode": {
    "name": "ipython",
    "version": 3
   },
   "file_extension": ".py",
   "mimetype": "text/x-python",
   "name": "python",
   "nbconvert_exporter": "python",
   "pygments_lexer": "ipython3",
   "version": "3.7.7-final"
  },
  "orig_nbformat": 2,
  "kernelspec": {
   "name": "Python 3.7.7 64-bit ('base': conda)",
   "display_name": "Python 3.7.7 64-bit ('base': conda)",
   "metadata": {
    "interpreter": {
     "hash": "3c8c3a880c14b61cd710572e2ac6298335c33509b1f7d3900bc107f98e9cc647"
    }
   }
  }
 },
 "nbformat": 4,
 "nbformat_minor": 2,
 "cells": [
  {
   "source": [
    "# Feature engineering\n",
    "\n",
    "feature engineering is one of the crucial parts of the building a good machine learning model. IF we have useful feature, the model will perform better. We must keep in mind that feature engineering is something that is done in best possible manner only when you have some knowledge about the domain of the problem and depends a lot on the data concern . However , there are some techniques that we can try to create features from almost all kinds of numerical and categorical variables. **feature engineering is not about creating new features from data but also includes different types of normalization and transformations.**\n",
    "\n",
    "Let's start with the most simple but most widely used feature engineering techniques. Let's say you are dealing with **data and time data** . So, we have a pandas dataframe with a datetime type column. Using this column, we can create features like:\n",
    "\n",
    "- Year\n",
    "- Week of Year\n",
    "- Month\n",
    "- Day of Week\n",
    "- Weekend\n",
    "- Hour\n",
    "- And many more\n",
    "\n",
    "and this can be done using pandas very easily\n"
   ],
   "cell_type": "markdown",
   "metadata": {}
  },
  {
   "cell_type": "code",
   "execution_count": null,
   "metadata": {},
   "outputs": [],
   "source": [
    "df.loc[:,'year'] = df['datetime_column'].dt.year \n",
    "df.loc[:,'weekofyear'] = df['datetime_column'].dt.weekofyear\n",
    "df.loc[:, 'month'] = df['datetime_column'].dt.month\n",
    "df.loc[:, 'dayofweek'] = df['datetime_column'].dt.dayofweek\n",
    "df.loc[: , 'weekend'] = (df[df.datetime_column.dt.weekday >= 5]).astype(int)"
   ]
  },
  {
   "source": [
    "So, we are creating a bunch of new columns using the datetime column. Let's see some of the sample feature that can be created."
   ],
   "cell_type": "markdown",
   "metadata": {}
  },
  {
   "source": [
    "import pandas as pd \n",
    "\n",
    "# create a series of datetime wiht a frequency of 10 hours\n",
    "\n",
    "s = pd.date_range('2020-01-06' , '2020-01-06', freq = '10H')\n",
    "\n",
    "#  creating some feature based on datatime\n",
    "\n",
    "feature = {\n",
    "    'dayofweek': s.dt.dayofweek.values,\n",
    "    'dayofyear': s.dt.dayofyear.values,\n",
    "    'hour' : s.dt.hour.values,\n",
    "    'is_leap_year' : s.dt.is_leap_year.values,\n",
    "    'quarter': s.dt.quarter.values,\n",
    "    'weekofyear': s.dt.weekofyear.values\n",
    "\n",
    "}"
   ],
   "cell_type": "code",
   "metadata": {},
   "execution_count": null,
   "outputs": []
  },
  {
   "source": [
    "This will generate a dictionary of features from a given series. you can apply this to any datetime column in a pandas dataframe . these are some of the many date time feature that pandas offer..\n",
    "\n",
    "For example , predicting sales of a store..\n",
    "we can easily extract feature like the year, month , quater, etc from the datetime column. Then we have *customer_id* column which might have multiple entries , so a customer is seen many times. and each date and customer id will have a bunch of categorical and numerical data . There are bunch of features we can create from it:\n",
    "\n",
    "- what is the month a customer is most active in\n",
    "- what is the count of cat1 , cat1, cat3 for a customer\n",
    "- what is the count of cat1 , cat2 , cat3 for a customer for a given week of the year\n",
    "- what is the mean of num1 for a given customer\n",
    "- And so on."
   ],
   "cell_type": "markdown",
   "metadata": {}
  },
  {
   "source": [
    "Using aggregates in pandas , it is quite easy to create features like these. let's see"
   ],
   "cell_type": "markdown",
   "metadata": {}
  },
  {
   "cell_type": "code",
   "execution_count": null,
   "metadata": {},
   "outputs": [],
   "source": [
    "def generate_features(df):\n",
    "    # create a bunch of features using the date column\n",
    "    df.loc[:, 'year'] = df['date'].dt.year\n",
    "    .\n",
    "    . \n",
    "    # and so on\n",
    "    \n",
    "    # create an aggregate dictionary\n",
    "    aggs = {}\n",
    "    # for aggregation by month , we calculate the number of unique month values and also the mean\n",
    "    aggs['month'] = ['nunique' , 'mean']\n",
    "    aggs['weekofyear'] = ['nunique' , 'mean']\n",
    "    # we aggregate by num1 and calculate sum , max, min, and mean values of this column\n",
    "    aggs['num1'] = ['sum' , 'max' , 'min', 'mean']\n",
    "    # for customer id we calculate the total count\n",
    "    aggs['customer_id'] = ['size']\n",
    "    # again for customer_id , we calculate the total unique\n",
    "    aggs['customer_id'] = ['nunique']\n",
    "\n",
    "    # we group by customer_id and calculate the aggregates\n",
    "    agg_df = df.groupby('customer_id').agg(aggs)\n",
    "    agg_df = agg_df.reset_index()\n",
    "    return agg_df"
   ]
  },
  {
   "source": [
    "After aggregating the data we can join them this dataframe with the original dataframe with *customer_id* column"
   ],
   "cell_type": "markdown",
   "metadata": {}
  },
  {
   "source": [
    "Sometimes , for example, when dealing with time-series problems, you might have features which are not individual values but a list of values. for example, transactions by a customer in a given period of time. In this case, we create different types of features such as : which numerical features, when you are grouping on a categorical column, you will get features like a list of values which are time distributed. In these cases, you can create a bunch of statistical featu such as :\n",
    "\n",
    "- Mean\n",
    "- Max\n",
    "- Min\n",
    "- Unique\n",
    "- Skew\n",
    "- Kurtosis\n",
    "- Kstat\n",
    "- Percentile\n",
    "- Quantile\n",
    "- Peak to Peak\n",
    "- And many more\n",
    "\n",
    "These can be created using simple numpy functions , as shown in the below"
   ],
   "cell_type": "markdown",
   "metadata": {}
  },
  {
   "cell_type": "code",
   "execution_count": null,
   "metadata": {},
   "outputs": [],
   "source": [
    "import numpy as np \n",
    "\n",
    "feature_dict = {}\n",
    "\n",
    "# calculate mean\n",
    "feature_dict['mean'] = np.mean(x)\n",
    "# calculate max\n",
    "feature_dict['max'] = np.max(x)\n",
    "# calculate min\n",
    "feature_dict['min'] = np.min(x)\n",
    "# calculate std\n",
    "feature_dict['std'] = np.std(x)\n",
    "# calculate variance\n",
    "feature_dict['var'] = np.var(x)\n",
    "# calculate peak to peak\n",
    "feature_dict['ptp'] = np.ptp(x)\n",
    "# percentile feautres\n",
    "feature_dict['percentile_10'] = np.percentile(x ,10)\n",
    "feature_dict['percentile_60'] = np.percentile(x , 60)\n",
    "feature_dict['percentile_90'] = np.percentile(x, 90)\n",
    "\n",
    "# quantile feature\n",
    "feature_dict['quantile_5'] = np.percentile(x, 5)\n",
    "feature_dict['quantile_95'] = np.percentile(x, 95)\n",
    "feature_dict['quantile_99'] = np.percentile(x , 99)"
   ]
  },
  {
   "source": [
    "The **time series data** (list of value) can be converted to a lot of features.\n",
    "\n",
    "A python library called *tsfresh* is instrumental in this case"
   ],
   "cell_type": "markdown",
   "metadata": {}
  },
  {
   "cell_type": "code",
   "execution_count": null,
   "metadata": {},
   "outputs": [],
   "source": [
    "from tsfresh.feature_extraction import feature_calculators as fc \n",
    "\n",
    "# tsfresh based features\n",
    "feature_dict['abs_energy'] = fc.abs_energy(x)\n",
    "feature_dict['count_above_mean'] = fc.count_above_mean(x)\n",
    "feature_dict['count_below_mean'] = fc.count_below_mean(x)\n",
    "feature_dict['mean_abs_change'] = fc.mean_abs_change(x)\n",
    "feature_dict['mean_change'] = fc.mean_change(x)"
   ]
  },
  {
   "source": [
    "This is not all; *tsfresh* offers hundreds of features and tens of variations of different features that you can use for time series (list of values) based features. In the example above, x is a list of values. But thats not all. there are many others features that can be create for numerical data with or without categorical data. A simple way to generate many features is just to create a bunch of **polynomial features.** for example , a second-degree polynomial feature from two features \"a\" and \"b\" would include: \"a\" , \"b\", \"ab\", $\"a^2\"$ and $\"b^2\"$."
   ],
   "cell_type": "markdown",
   "metadata": {}
  },
  {
   "cell_type": "code",
   "execution_count": 1,
   "metadata": {},
   "outputs": [
    {
     "output_type": "execute_result",
     "data": {
      "text/plain": "        f_1       f_2\n0  0.105883  0.890724\n1  0.934053  0.608714\n2  0.329370  0.990669\n3  0.656689  0.192124\n4  0.695451  0.569823",
      "text/html": "<div>\n<style scoped>\n    .dataframe tbody tr th:only-of-type {\n        vertical-align: middle;\n    }\n\n    .dataframe tbody tr th {\n        vertical-align: top;\n    }\n\n    .dataframe thead th {\n        text-align: right;\n    }\n</style>\n<table border=\"1\" class=\"dataframe\">\n  <thead>\n    <tr style=\"text-align: right;\">\n      <th></th>\n      <th>f_1</th>\n      <th>f_2</th>\n    </tr>\n  </thead>\n  <tbody>\n    <tr>\n      <th>0</th>\n      <td>0.105883</td>\n      <td>0.890724</td>\n    </tr>\n    <tr>\n      <th>1</th>\n      <td>0.934053</td>\n      <td>0.608714</td>\n    </tr>\n    <tr>\n      <th>2</th>\n      <td>0.329370</td>\n      <td>0.990669</td>\n    </tr>\n    <tr>\n      <th>3</th>\n      <td>0.656689</td>\n      <td>0.192124</td>\n    </tr>\n    <tr>\n      <th>4</th>\n      <td>0.695451</td>\n      <td>0.569823</td>\n    </tr>\n  </tbody>\n</table>\n</div>"
     },
     "metadata": {},
     "execution_count": 1
    }
   ],
   "source": [
    "import numpy as np \n",
    "import pandas as pd \n",
    "\n",
    "# generate a random dataframe with 2 columns and 100 rows\n",
    "df = pd.DataFrame(\n",
    "    np.random.rand(100 , 2),\n",
    "    columns=[f\"f_{i}\" for i in range(1, 3)]\n",
    ")\n",
    "df.head()"
   ]
  },
  {
   "source": [
    "Now we can create two-degree polynomial features using PolynomialFeatures from scikit-learn."
   ],
   "cell_type": "markdown",
   "metadata": {}
  },
  {
   "cell_type": "code",
   "execution_count": 7,
   "metadata": {},
   "outputs": [
    {
     "output_type": "execute_result",
     "data": {
      "text/plain": "        f_1       f_2       f_3       f_4       f_5\n0  0.105883  0.890724  0.011211  0.094312  0.793390\n1  0.934053  0.608714  0.872455  0.568571  0.370533\n2  0.329370  0.990669  0.108485  0.326297  0.981425\n3  0.656689  0.192124  0.431240  0.126166  0.036912\n4  0.695451  0.569823  0.483653  0.396284  0.324699",
      "text/html": "<div>\n<style scoped>\n    .dataframe tbody tr th:only-of-type {\n        vertical-align: middle;\n    }\n\n    .dataframe tbody tr th {\n        vertical-align: top;\n    }\n\n    .dataframe thead th {\n        text-align: right;\n    }\n</style>\n<table border=\"1\" class=\"dataframe\">\n  <thead>\n    <tr style=\"text-align: right;\">\n      <th></th>\n      <th>f_1</th>\n      <th>f_2</th>\n      <th>f_3</th>\n      <th>f_4</th>\n      <th>f_5</th>\n    </tr>\n  </thead>\n  <tbody>\n    <tr>\n      <th>0</th>\n      <td>0.105883</td>\n      <td>0.890724</td>\n      <td>0.011211</td>\n      <td>0.094312</td>\n      <td>0.793390</td>\n    </tr>\n    <tr>\n      <th>1</th>\n      <td>0.934053</td>\n      <td>0.608714</td>\n      <td>0.872455</td>\n      <td>0.568571</td>\n      <td>0.370533</td>\n    </tr>\n    <tr>\n      <th>2</th>\n      <td>0.329370</td>\n      <td>0.990669</td>\n      <td>0.108485</td>\n      <td>0.326297</td>\n      <td>0.981425</td>\n    </tr>\n    <tr>\n      <th>3</th>\n      <td>0.656689</td>\n      <td>0.192124</td>\n      <td>0.431240</td>\n      <td>0.126166</td>\n      <td>0.036912</td>\n    </tr>\n    <tr>\n      <th>4</th>\n      <td>0.695451</td>\n      <td>0.569823</td>\n      <td>0.483653</td>\n      <td>0.396284</td>\n      <td>0.324699</td>\n    </tr>\n  </tbody>\n</table>\n</div>"
     },
     "metadata": {},
     "execution_count": 7
    }
   ],
   "source": [
    "from sklearn import preprocessing\n",
    "\n",
    "# initializing polynomial features class object for two-degree polynomial features\n",
    "\n",
    "pf = preprocessing.PolynomialFeatures(\n",
    "    degree = 2,\n",
    "    interaction_only = False,\n",
    "    include_bias = False\n",
    ")\n",
    "# fit to the features\n",
    "pf.fit(df)\n",
    "\n",
    "poly_feats = pf.transform(df)\n",
    "\n",
    "# create a datafrae with all the features\n",
    "num_feats = poly_feats.shape[1]\n",
    "df_transformed = pd.DataFrame(\n",
    "    poly_feats,\n",
    "    columns = [f\"f_{i}\" for i in range(1 , num_feats +1)]\n",
    ")\n",
    "\n",
    "df_transformed.head()\n"
   ]
  },
  {
   "cell_type": "code",
   "execution_count": 10,
   "metadata": {},
   "outputs": [
    {
     "output_type": "display_data",
     "data": {
      "text/plain": "&lt;Figure size 640x480 with 1 Axes&gt;",
      "image/svg+xml": "<?xml version=\"1.0\" encoding=\"utf-8\" standalone=\"no\"?>\r\n<!DOCTYPE svg PUBLIC \"-//W3C//DTD SVG 1.1//EN\"\r\n  \"http://www.w3.org/Graphics/SVG/1.1/DTD/svg11.dtd\">\r\n<!-- Created with matplotlib (https://matplotlib.org/) -->\r\n<svg height=\"381.420625pt\" version=\"1.1\" viewBox=\"0 0 489.611875 381.420625\" width=\"489.611875pt\" xmlns=\"http://www.w3.org/2000/svg\" xmlns:xlink=\"http://www.w3.org/1999/xlink\">\r\n <defs>\r\n  <style type=\"text/css\">\r\n*{stroke-linecap:butt;stroke-linejoin:round;}\r\n  </style>\r\n </defs>\r\n <g id=\"figure_1\">\r\n  <g id=\"patch_1\">\r\n   <path d=\"M 0 381.420625 \r\nL 489.611875 381.420625 \r\nL 489.611875 0 \r\nL 0 0 \r\nz\r\n\" style=\"fill:#bfbfbf;\"/>\r\n  </g>\r\n  <g id=\"axes_1\">\r\n   <g id=\"patch_2\">\r\n    <path d=\"M 26.47 358.606875 \r\nL 472.87 358.606875 \r\nL 472.87 13.006875 \r\nL 26.47 13.006875 \r\nz\r\n\" style=\"fill:#ffffff;\"/>\r\n   </g>\r\n   <g id=\"patch_3\">\r\n    <path clip-path=\"url(#pcb135c5740)\" d=\"M 42.062187 358.606875 \r\nL 84.939714 358.606875 \r\nL 84.939714 210.492589 \r\nL 42.062187 210.492589 \r\nz\r\n\" style=\"fill:#0000ff;stroke:#000000;stroke-linejoin:miter;\"/>\r\n   </g>\r\n   <g id=\"patch_4\">\r\n    <path clip-path=\"url(#pcb135c5740)\" d=\"M 84.939714 358.606875 \r\nL 127.817242 358.606875 \r\nL 127.817242 161.121161 \r\nL 84.939714 161.121161 \r\nz\r\n\" style=\"fill:#0000ff;stroke:#000000;stroke-linejoin:miter;\"/>\r\n   </g>\r\n   <g id=\"patch_5\">\r\n    <path clip-path=\"url(#pcb135c5740)\" d=\"M 127.817242 358.606875 \r\nL 170.69477 358.606875 \r\nL 170.69477 235.178304 \r\nL 127.817242 235.178304 \r\nz\r\n\" style=\"fill:#0000ff;stroke:#000000;stroke-linejoin:miter;\"/>\r\n   </g>\r\n   <g id=\"patch_6\">\r\n    <path clip-path=\"url(#pcb135c5740)\" d=\"M 170.69477 358.606875 \r\nL 213.572297 358.606875 \r\nL 213.572297 13.006875 \r\nL 170.69477 13.006875 \r\nz\r\n\" style=\"fill:#0000ff;stroke:#000000;stroke-linejoin:miter;\"/>\r\n   </g>\r\n   <g id=\"patch_7\">\r\n    <path clip-path=\"url(#pcb135c5740)\" d=\"M 213.572297 358.606875 \r\nL 256.449825 358.606875 \r\nL 256.449825 136.435446 \r\nL 213.572297 136.435446 \r\nz\r\n\" style=\"fill:#0000ff;stroke:#000000;stroke-linejoin:miter;\"/>\r\n   </g>\r\n   <g id=\"patch_8\">\r\n    <path clip-path=\"url(#pcb135c5740)\" d=\"M 256.449825 358.606875 \r\nL 299.327353 358.606875 \r\nL 299.327353 136.435446 \r\nL 256.449825 136.435446 \r\nz\r\n\" style=\"fill:#0000ff;stroke:#000000;stroke-linejoin:miter;\"/>\r\n   </g>\r\n   <g id=\"patch_9\">\r\n    <path clip-path=\"url(#pcb135c5740)\" d=\"M 299.327353 358.606875 \r\nL 342.20488 358.606875 \r\nL 342.20488 37.692589 \r\nL 299.327353 37.692589 \r\nz\r\n\" style=\"fill:#0000ff;stroke:#000000;stroke-linejoin:miter;\"/>\r\n   </g>\r\n   <g id=\"patch_10\">\r\n    <path clip-path=\"url(#pcb135c5740)\" d=\"M 342.20488 358.606875 \r\nL 385.082408 358.606875 \r\nL 385.082408 111.749732 \r\nL 342.20488 111.749732 \r\nz\r\n\" style=\"fill:#0000ff;stroke:#000000;stroke-linejoin:miter;\"/>\r\n   </g>\r\n   <g id=\"patch_11\">\r\n    <path clip-path=\"url(#pcb135c5740)\" d=\"M 385.082408 358.606875 \r\nL 427.959935 358.606875 \r\nL 427.959935 13.006875 \r\nL 385.082408 13.006875 \r\nz\r\n\" style=\"fill:#0000ff;stroke:#000000;stroke-linejoin:miter;\"/>\r\n   </g>\r\n   <g id=\"patch_12\">\r\n    <path clip-path=\"url(#pcb135c5740)\" d=\"M 427.959935 358.606875 \r\nL 470.837463 358.606875 \r\nL 470.837463 62.378304 \r\nL 427.959935 62.378304 \r\nz\r\n\" style=\"fill:#0000ff;stroke:#000000;stroke-linejoin:miter;\"/>\r\n   </g>\r\n   <g id=\"patch_13\">\r\n    <path d=\"M 26.47 358.606875 \r\nL 26.47 13.006875 \r\n\" style=\"fill:none;stroke:#000000;stroke-linecap:square;stroke-linejoin:miter;\"/>\r\n   </g>\r\n   <g id=\"patch_14\">\r\n    <path d=\"M 472.87 358.606875 \r\nL 472.87 13.006875 \r\n\" style=\"fill:none;stroke:#000000;stroke-linecap:square;stroke-linejoin:miter;\"/>\r\n   </g>\r\n   <g id=\"patch_15\">\r\n    <path d=\"M 26.47 358.606875 \r\nL 472.87 358.606875 \r\n\" style=\"fill:none;stroke:#000000;stroke-linecap:square;stroke-linejoin:miter;\"/>\r\n   </g>\r\n   <g id=\"patch_16\">\r\n    <path d=\"M 26.47 13.006875 \r\nL 472.87 13.006875 \r\n\" style=\"fill:none;stroke:#000000;stroke-linecap:square;stroke-linejoin:miter;\"/>\r\n   </g>\r\n   <g id=\"matplotlib.axis_1\">\r\n    <g id=\"xtick_1\">\r\n     <g id=\"line2d_1\">\r\n      <defs>\r\n       <path d=\"M 0 0 \r\nL 0 -4 \r\n\" id=\"md993f95272\" style=\"stroke:#000000;stroke-width:0.5;\"/>\r\n      </defs>\r\n      <g>\r\n       <use style=\"stroke:#000000;stroke-width:0.5;\" x=\"26.47\" xlink:href=\"#md993f95272\" y=\"358.606875\"/>\r\n      </g>\r\n     </g>\r\n     <g id=\"line2d_2\">\r\n      <defs>\r\n       <path d=\"M 0 0 \r\nL 0 4 \r\n\" id=\"m2c39b9f069\" style=\"stroke:#000000;stroke-width:0.5;\"/>\r\n      </defs>\r\n      <g>\r\n       <use style=\"stroke:#000000;stroke-width:0.5;\" x=\"26.47\" xlink:href=\"#m2c39b9f069\" y=\"13.006875\"/>\r\n      </g>\r\n     </g>\r\n     <g id=\"text_1\">\r\n      <!-- 0.0 -->\r\n      <defs>\r\n       <path d=\"M 31.78125 66.40625 \r\nQ 24.171875 66.40625 20.328125 58.90625 \r\nQ 16.5 51.421875 16.5 36.375 \r\nQ 16.5 21.390625 20.328125 13.890625 \r\nQ 24.171875 6.390625 31.78125 6.390625 \r\nQ 39.453125 6.390625 43.28125 13.890625 \r\nQ 47.125 21.390625 47.125 36.375 \r\nQ 47.125 51.421875 43.28125 58.90625 \r\nQ 39.453125 66.40625 31.78125 66.40625 \r\nz\r\nM 31.78125 74.21875 \r\nQ 44.046875 74.21875 50.515625 64.515625 \r\nQ 56.984375 54.828125 56.984375 36.375 \r\nQ 56.984375 17.96875 50.515625 8.265625 \r\nQ 44.046875 -1.421875 31.78125 -1.421875 \r\nQ 19.53125 -1.421875 13.0625 8.265625 \r\nQ 6.59375 17.96875 6.59375 36.375 \r\nQ 6.59375 54.828125 13.0625 64.515625 \r\nQ 19.53125 74.21875 31.78125 74.21875 \r\nz\r\n\" id=\"DejaVuSans-48\"/>\r\n       <path d=\"M 10.6875 12.40625 \r\nL 21 12.40625 \r\nL 21 0 \r\nL 10.6875 0 \r\nz\r\n\" id=\"DejaVuSans-46\"/>\r\n      </defs>\r\n      <g transform=\"translate(16.928125 371.725)scale(0.12 -0.12)\">\r\n       <use xlink:href=\"#DejaVuSans-48\"/>\r\n       <use x=\"63.623047\" xlink:href=\"#DejaVuSans-46\"/>\r\n       <use x=\"95.410156\" xlink:href=\"#DejaVuSans-48\"/>\r\n      </g>\r\n     </g>\r\n    </g>\r\n    <g id=\"xtick_2\">\r\n     <g id=\"line2d_3\">\r\n      <g>\r\n       <use style=\"stroke:#000000;stroke-width:0.5;\" x=\"115.75\" xlink:href=\"#md993f95272\" y=\"358.606875\"/>\r\n      </g>\r\n     </g>\r\n     <g id=\"line2d_4\">\r\n      <g>\r\n       <use style=\"stroke:#000000;stroke-width:0.5;\" x=\"115.75\" xlink:href=\"#m2c39b9f069\" y=\"13.006875\"/>\r\n      </g>\r\n     </g>\r\n     <g id=\"text_2\">\r\n      <!-- 0.2 -->\r\n      <defs>\r\n       <path d=\"M 19.1875 8.296875 \r\nL 53.609375 8.296875 \r\nL 53.609375 0 \r\nL 7.328125 0 \r\nL 7.328125 8.296875 \r\nQ 12.9375 14.109375 22.625 23.890625 \r\nQ 32.328125 33.6875 34.8125 36.53125 \r\nQ 39.546875 41.84375 41.421875 45.53125 \r\nQ 43.3125 49.21875 43.3125 52.78125 \r\nQ 43.3125 58.59375 39.234375 62.25 \r\nQ 35.15625 65.921875 28.609375 65.921875 \r\nQ 23.96875 65.921875 18.8125 64.3125 \r\nQ 13.671875 62.703125 7.8125 59.421875 \r\nL 7.8125 69.390625 \r\nQ 13.765625 71.78125 18.9375 73 \r\nQ 24.125 74.21875 28.421875 74.21875 \r\nQ 39.75 74.21875 46.484375 68.546875 \r\nQ 53.21875 62.890625 53.21875 53.421875 \r\nQ 53.21875 48.921875 51.53125 44.890625 \r\nQ 49.859375 40.875 45.40625 35.40625 \r\nQ 44.1875 33.984375 37.640625 27.21875 \r\nQ 31.109375 20.453125 19.1875 8.296875 \r\nz\r\n\" id=\"DejaVuSans-50\"/>\r\n      </defs>\r\n      <g transform=\"translate(106.208125 371.725)scale(0.12 -0.12)\">\r\n       <use xlink:href=\"#DejaVuSans-48\"/>\r\n       <use x=\"63.623047\" xlink:href=\"#DejaVuSans-46\"/>\r\n       <use x=\"95.410156\" xlink:href=\"#DejaVuSans-50\"/>\r\n      </g>\r\n     </g>\r\n    </g>\r\n    <g id=\"xtick_3\">\r\n     <g id=\"line2d_5\">\r\n      <g>\r\n       <use style=\"stroke:#000000;stroke-width:0.5;\" x=\"205.03\" xlink:href=\"#md993f95272\" y=\"358.606875\"/>\r\n      </g>\r\n     </g>\r\n     <g id=\"line2d_6\">\r\n      <g>\r\n       <use style=\"stroke:#000000;stroke-width:0.5;\" x=\"205.03\" xlink:href=\"#m2c39b9f069\" y=\"13.006875\"/>\r\n      </g>\r\n     </g>\r\n     <g id=\"text_3\">\r\n      <!-- 0.4 -->\r\n      <defs>\r\n       <path d=\"M 37.796875 64.3125 \r\nL 12.890625 25.390625 \r\nL 37.796875 25.390625 \r\nz\r\nM 35.203125 72.90625 \r\nL 47.609375 72.90625 \r\nL 47.609375 25.390625 \r\nL 58.015625 25.390625 \r\nL 58.015625 17.1875 \r\nL 47.609375 17.1875 \r\nL 47.609375 0 \r\nL 37.796875 0 \r\nL 37.796875 17.1875 \r\nL 4.890625 17.1875 \r\nL 4.890625 26.703125 \r\nz\r\n\" id=\"DejaVuSans-52\"/>\r\n      </defs>\r\n      <g transform=\"translate(195.488125 371.725)scale(0.12 -0.12)\">\r\n       <use xlink:href=\"#DejaVuSans-48\"/>\r\n       <use x=\"63.623047\" xlink:href=\"#DejaVuSans-46\"/>\r\n       <use x=\"95.410156\" xlink:href=\"#DejaVuSans-52\"/>\r\n      </g>\r\n     </g>\r\n    </g>\r\n    <g id=\"xtick_4\">\r\n     <g id=\"line2d_7\">\r\n      <g>\r\n       <use style=\"stroke:#000000;stroke-width:0.5;\" x=\"294.31\" xlink:href=\"#md993f95272\" y=\"358.606875\"/>\r\n      </g>\r\n     </g>\r\n     <g id=\"line2d_8\">\r\n      <g>\r\n       <use style=\"stroke:#000000;stroke-width:0.5;\" x=\"294.31\" xlink:href=\"#m2c39b9f069\" y=\"13.006875\"/>\r\n      </g>\r\n     </g>\r\n     <g id=\"text_4\">\r\n      <!-- 0.6 -->\r\n      <defs>\r\n       <path d=\"M 33.015625 40.375 \r\nQ 26.375 40.375 22.484375 35.828125 \r\nQ 18.609375 31.296875 18.609375 23.390625 \r\nQ 18.609375 15.53125 22.484375 10.953125 \r\nQ 26.375 6.390625 33.015625 6.390625 \r\nQ 39.65625 6.390625 43.53125 10.953125 \r\nQ 47.40625 15.53125 47.40625 23.390625 \r\nQ 47.40625 31.296875 43.53125 35.828125 \r\nQ 39.65625 40.375 33.015625 40.375 \r\nz\r\nM 52.59375 71.296875 \r\nL 52.59375 62.3125 \r\nQ 48.875 64.0625 45.09375 64.984375 \r\nQ 41.3125 65.921875 37.59375 65.921875 \r\nQ 27.828125 65.921875 22.671875 59.328125 \r\nQ 17.53125 52.734375 16.796875 39.40625 \r\nQ 19.671875 43.65625 24.015625 45.921875 \r\nQ 28.375 48.1875 33.59375 48.1875 \r\nQ 44.578125 48.1875 50.953125 41.515625 \r\nQ 57.328125 34.859375 57.328125 23.390625 \r\nQ 57.328125 12.15625 50.6875 5.359375 \r\nQ 44.046875 -1.421875 33.015625 -1.421875 \r\nQ 20.359375 -1.421875 13.671875 8.265625 \r\nQ 6.984375 17.96875 6.984375 36.375 \r\nQ 6.984375 53.65625 15.1875 63.9375 \r\nQ 23.390625 74.21875 37.203125 74.21875 \r\nQ 40.921875 74.21875 44.703125 73.484375 \r\nQ 48.484375 72.75 52.59375 71.296875 \r\nz\r\n\" id=\"DejaVuSans-54\"/>\r\n      </defs>\r\n      <g transform=\"translate(284.768125 371.725)scale(0.12 -0.12)\">\r\n       <use xlink:href=\"#DejaVuSans-48\"/>\r\n       <use x=\"63.623047\" xlink:href=\"#DejaVuSans-46\"/>\r\n       <use x=\"95.410156\" xlink:href=\"#DejaVuSans-54\"/>\r\n      </g>\r\n     </g>\r\n    </g>\r\n    <g id=\"xtick_5\">\r\n     <g id=\"line2d_9\">\r\n      <g>\r\n       <use style=\"stroke:#000000;stroke-width:0.5;\" x=\"383.59\" xlink:href=\"#md993f95272\" y=\"358.606875\"/>\r\n      </g>\r\n     </g>\r\n     <g id=\"line2d_10\">\r\n      <g>\r\n       <use style=\"stroke:#000000;stroke-width:0.5;\" x=\"383.59\" xlink:href=\"#m2c39b9f069\" y=\"13.006875\"/>\r\n      </g>\r\n     </g>\r\n     <g id=\"text_5\">\r\n      <!-- 0.8 -->\r\n      <defs>\r\n       <path d=\"M 31.78125 34.625 \r\nQ 24.75 34.625 20.71875 30.859375 \r\nQ 16.703125 27.09375 16.703125 20.515625 \r\nQ 16.703125 13.921875 20.71875 10.15625 \r\nQ 24.75 6.390625 31.78125 6.390625 \r\nQ 38.8125 6.390625 42.859375 10.171875 \r\nQ 46.921875 13.96875 46.921875 20.515625 \r\nQ 46.921875 27.09375 42.890625 30.859375 \r\nQ 38.875 34.625 31.78125 34.625 \r\nz\r\nM 21.921875 38.8125 \r\nQ 15.578125 40.375 12.03125 44.71875 \r\nQ 8.5 49.078125 8.5 55.328125 \r\nQ 8.5 64.0625 14.71875 69.140625 \r\nQ 20.953125 74.21875 31.78125 74.21875 \r\nQ 42.671875 74.21875 48.875 69.140625 \r\nQ 55.078125 64.0625 55.078125 55.328125 \r\nQ 55.078125 49.078125 51.53125 44.71875 \r\nQ 48 40.375 41.703125 38.8125 \r\nQ 48.828125 37.15625 52.796875 32.3125 \r\nQ 56.78125 27.484375 56.78125 20.515625 \r\nQ 56.78125 9.90625 50.3125 4.234375 \r\nQ 43.84375 -1.421875 31.78125 -1.421875 \r\nQ 19.734375 -1.421875 13.25 4.234375 \r\nQ 6.78125 9.90625 6.78125 20.515625 \r\nQ 6.78125 27.484375 10.78125 32.3125 \r\nQ 14.796875 37.15625 21.921875 38.8125 \r\nz\r\nM 18.3125 54.390625 \r\nQ 18.3125 48.734375 21.84375 45.5625 \r\nQ 25.390625 42.390625 31.78125 42.390625 \r\nQ 38.140625 42.390625 41.71875 45.5625 \r\nQ 45.3125 48.734375 45.3125 54.390625 \r\nQ 45.3125 60.0625 41.71875 63.234375 \r\nQ 38.140625 66.40625 31.78125 66.40625 \r\nQ 25.390625 66.40625 21.84375 63.234375 \r\nQ 18.3125 60.0625 18.3125 54.390625 \r\nz\r\n\" id=\"DejaVuSans-56\"/>\r\n      </defs>\r\n      <g transform=\"translate(374.048125 371.725)scale(0.12 -0.12)\">\r\n       <use xlink:href=\"#DejaVuSans-48\"/>\r\n       <use x=\"63.623047\" xlink:href=\"#DejaVuSans-46\"/>\r\n       <use x=\"95.410156\" xlink:href=\"#DejaVuSans-56\"/>\r\n      </g>\r\n     </g>\r\n    </g>\r\n    <g id=\"xtick_6\">\r\n     <g id=\"line2d_11\">\r\n      <g>\r\n       <use style=\"stroke:#000000;stroke-width:0.5;\" x=\"472.87\" xlink:href=\"#md993f95272\" y=\"358.606875\"/>\r\n      </g>\r\n     </g>\r\n     <g id=\"line2d_12\">\r\n      <g>\r\n       <use style=\"stroke:#000000;stroke-width:0.5;\" x=\"472.87\" xlink:href=\"#m2c39b9f069\" y=\"13.006875\"/>\r\n      </g>\r\n     </g>\r\n     <g id=\"text_6\">\r\n      <!-- 1.0 -->\r\n      <defs>\r\n       <path d=\"M 12.40625 8.296875 \r\nL 28.515625 8.296875 \r\nL 28.515625 63.921875 \r\nL 10.984375 60.40625 \r\nL 10.984375 69.390625 \r\nL 28.421875 72.90625 \r\nL 38.28125 72.90625 \r\nL 38.28125 8.296875 \r\nL 54.390625 8.296875 \r\nL 54.390625 0 \r\nL 12.40625 0 \r\nz\r\n\" id=\"DejaVuSans-49\"/>\r\n      </defs>\r\n      <g transform=\"translate(463.328125 371.725)scale(0.12 -0.12)\">\r\n       <use xlink:href=\"#DejaVuSans-49\"/>\r\n       <use x=\"63.623047\" xlink:href=\"#DejaVuSans-46\"/>\r\n       <use x=\"95.410156\" xlink:href=\"#DejaVuSans-48\"/>\r\n      </g>\r\n     </g>\r\n    </g>\r\n   </g>\r\n   <g id=\"matplotlib.axis_2\">\r\n    <g id=\"ytick_1\">\r\n     <g id=\"line2d_13\">\r\n      <defs>\r\n       <path d=\"M 0 0 \r\nL 4 0 \r\n\" id=\"mdc1c15e7fd\" style=\"stroke:#000000;stroke-width:0.5;\"/>\r\n      </defs>\r\n      <g>\r\n       <use style=\"stroke:#000000;stroke-width:0.5;\" x=\"26.47\" xlink:href=\"#mdc1c15e7fd\" y=\"358.606875\"/>\r\n      </g>\r\n     </g>\r\n     <g id=\"line2d_14\">\r\n      <defs>\r\n       <path d=\"M 0 0 \r\nL -4 0 \r\n\" id=\"m193e811cea\" style=\"stroke:#000000;stroke-width:0.5;\"/>\r\n      </defs>\r\n      <g>\r\n       <use style=\"stroke:#000000;stroke-width:0.5;\" x=\"472.87\" xlink:href=\"#m193e811cea\" y=\"358.606875\"/>\r\n      </g>\r\n     </g>\r\n     <g id=\"text_7\">\r\n      <!-- 0 -->\r\n      <g transform=\"translate(14.835 361.918125)scale(0.12 -0.12)\">\r\n       <use xlink:href=\"#DejaVuSans-48\"/>\r\n      </g>\r\n     </g>\r\n    </g>\r\n    <g id=\"ytick_2\">\r\n     <g id=\"line2d_15\">\r\n      <g>\r\n       <use style=\"stroke:#000000;stroke-width:0.5;\" x=\"26.47\" xlink:href=\"#mdc1c15e7fd\" y=\"309.235446\"/>\r\n      </g>\r\n     </g>\r\n     <g id=\"line2d_16\">\r\n      <g>\r\n       <use style=\"stroke:#000000;stroke-width:0.5;\" x=\"472.87\" xlink:href=\"#m193e811cea\" y=\"309.235446\"/>\r\n      </g>\r\n     </g>\r\n     <g id=\"text_8\">\r\n      <!-- 2 -->\r\n      <g transform=\"translate(14.835 312.546696)scale(0.12 -0.12)\">\r\n       <use xlink:href=\"#DejaVuSans-50\"/>\r\n      </g>\r\n     </g>\r\n    </g>\r\n    <g id=\"ytick_3\">\r\n     <g id=\"line2d_17\">\r\n      <g>\r\n       <use style=\"stroke:#000000;stroke-width:0.5;\" x=\"26.47\" xlink:href=\"#mdc1c15e7fd\" y=\"259.864018\"/>\r\n      </g>\r\n     </g>\r\n     <g id=\"line2d_18\">\r\n      <g>\r\n       <use style=\"stroke:#000000;stroke-width:0.5;\" x=\"472.87\" xlink:href=\"#m193e811cea\" y=\"259.864018\"/>\r\n      </g>\r\n     </g>\r\n     <g id=\"text_9\">\r\n      <!-- 4 -->\r\n      <g transform=\"translate(14.835 263.175268)scale(0.12 -0.12)\">\r\n       <use xlink:href=\"#DejaVuSans-52\"/>\r\n      </g>\r\n     </g>\r\n    </g>\r\n    <g id=\"ytick_4\">\r\n     <g id=\"line2d_19\">\r\n      <g>\r\n       <use style=\"stroke:#000000;stroke-width:0.5;\" x=\"26.47\" xlink:href=\"#mdc1c15e7fd\" y=\"210.492589\"/>\r\n      </g>\r\n     </g>\r\n     <g id=\"line2d_20\">\r\n      <g>\r\n       <use style=\"stroke:#000000;stroke-width:0.5;\" x=\"472.87\" xlink:href=\"#m193e811cea\" y=\"210.492589\"/>\r\n      </g>\r\n     </g>\r\n     <g id=\"text_10\">\r\n      <!-- 6 -->\r\n      <g transform=\"translate(14.835 213.803839)scale(0.12 -0.12)\">\r\n       <use xlink:href=\"#DejaVuSans-54\"/>\r\n      </g>\r\n     </g>\r\n    </g>\r\n    <g id=\"ytick_5\">\r\n     <g id=\"line2d_21\">\r\n      <g>\r\n       <use style=\"stroke:#000000;stroke-width:0.5;\" x=\"26.47\" xlink:href=\"#mdc1c15e7fd\" y=\"161.121161\"/>\r\n      </g>\r\n     </g>\r\n     <g id=\"line2d_22\">\r\n      <g>\r\n       <use style=\"stroke:#000000;stroke-width:0.5;\" x=\"472.87\" xlink:href=\"#m193e811cea\" y=\"161.121161\"/>\r\n      </g>\r\n     </g>\r\n     <g id=\"text_11\">\r\n      <!-- 8 -->\r\n      <g transform=\"translate(14.835 164.432411)scale(0.12 -0.12)\">\r\n       <use xlink:href=\"#DejaVuSans-56\"/>\r\n      </g>\r\n     </g>\r\n    </g>\r\n    <g id=\"ytick_6\">\r\n     <g id=\"line2d_23\">\r\n      <g>\r\n       <use style=\"stroke:#000000;stroke-width:0.5;\" x=\"26.47\" xlink:href=\"#mdc1c15e7fd\" y=\"111.749732\"/>\r\n      </g>\r\n     </g>\r\n     <g id=\"line2d_24\">\r\n      <g>\r\n       <use style=\"stroke:#000000;stroke-width:0.5;\" x=\"472.87\" xlink:href=\"#m193e811cea\" y=\"111.749732\"/>\r\n      </g>\r\n     </g>\r\n     <g id=\"text_12\">\r\n      <!-- 10 -->\r\n      <g transform=\"translate(7.2 115.060982)scale(0.12 -0.12)\">\r\n       <use xlink:href=\"#DejaVuSans-49\"/>\r\n       <use x=\"63.623047\" xlink:href=\"#DejaVuSans-48\"/>\r\n      </g>\r\n     </g>\r\n    </g>\r\n    <g id=\"ytick_7\">\r\n     <g id=\"line2d_25\">\r\n      <g>\r\n       <use style=\"stroke:#000000;stroke-width:0.5;\" x=\"26.47\" xlink:href=\"#mdc1c15e7fd\" y=\"62.378304\"/>\r\n      </g>\r\n     </g>\r\n     <g id=\"line2d_26\">\r\n      <g>\r\n       <use style=\"stroke:#000000;stroke-width:0.5;\" x=\"472.87\" xlink:href=\"#m193e811cea\" y=\"62.378304\"/>\r\n      </g>\r\n     </g>\r\n     <g id=\"text_13\">\r\n      <!-- 12 -->\r\n      <g transform=\"translate(7.2 65.689554)scale(0.12 -0.12)\">\r\n       <use xlink:href=\"#DejaVuSans-49\"/>\r\n       <use x=\"63.623047\" xlink:href=\"#DejaVuSans-50\"/>\r\n      </g>\r\n     </g>\r\n    </g>\r\n    <g id=\"ytick_8\">\r\n     <g id=\"line2d_27\">\r\n      <g>\r\n       <use style=\"stroke:#000000;stroke-width:0.5;\" x=\"26.47\" xlink:href=\"#mdc1c15e7fd\" y=\"13.006875\"/>\r\n      </g>\r\n     </g>\r\n     <g id=\"line2d_28\">\r\n      <g>\r\n       <use style=\"stroke:#000000;stroke-width:0.5;\" x=\"472.87\" xlink:href=\"#m193e811cea\" y=\"13.006875\"/>\r\n      </g>\r\n     </g>\r\n     <g id=\"text_14\">\r\n      <!-- 14 -->\r\n      <g transform=\"translate(7.2 16.318125)scale(0.12 -0.12)\">\r\n       <use xlink:href=\"#DejaVuSans-49\"/>\r\n       <use x=\"63.623047\" xlink:href=\"#DejaVuSans-52\"/>\r\n      </g>\r\n     </g>\r\n    </g>\r\n   </g>\r\n  </g>\r\n </g>\r\n <defs>\r\n  <clipPath id=\"pcb135c5740\">\r\n   <rect height=\"345.6\" width=\"446.4\" x=\"26.47\" y=\"13.006875\"/>\r\n  </clipPath>\r\n </defs>\r\n</svg>\r\n",
      "image/png": "[encoded data removed]"
     },
     "metadata": {}
    }
   ],
   "source": [
    "import matplotlib.pyplot as plt \n",
    "from matplotlib import style\n",
    "style.use('classic')\n",
    "\n",
    "plt.hist(df['f_1'])\n",
    "plt.show()"
   ]
  },
  {
   "source": [
    "Another interesting feature converts the numbers to categories. it's know as **binning**. let's look at the above figure a sample histogram of a random numerical feature. We use ten bins for this figure, and we see that we can divide the data into ten parts. This can be accomplished using pandas *cut* function."
   ],
   "cell_type": "markdown",
   "metadata": {}
  },
  {
   "cell_type": "code",
   "execution_count": 12,
   "metadata": {},
   "outputs": [
    {
     "output_type": "execute_result",
     "data": {
      "text/plain": "        f_1       f_2  f_bin_10  f_bin_100\n0  0.105883  0.890724         0          7\n1  0.934053  0.608714         9         93\n2  0.329370  0.990669         3         30\n3  0.656689  0.192124         6         64\n4  0.695451  0.569823         6         68",
      "text/html": "<div>\n<style scoped>\n    .dataframe tbody tr th:only-of-type {\n        vertical-align: middle;\n    }\n\n    .dataframe tbody tr th {\n        vertical-align: top;\n    }\n\n    .dataframe thead th {\n        text-align: right;\n    }\n</style>\n<table border=\"1\" class=\"dataframe\">\n  <thead>\n    <tr style=\"text-align: right;\">\n      <th></th>\n      <th>f_1</th>\n      <th>f_2</th>\n      <th>f_bin_10</th>\n      <th>f_bin_100</th>\n    </tr>\n  </thead>\n  <tbody>\n    <tr>\n      <th>0</th>\n      <td>0.105883</td>\n      <td>0.890724</td>\n      <td>0</td>\n      <td>7</td>\n    </tr>\n    <tr>\n      <th>1</th>\n      <td>0.934053</td>\n      <td>0.608714</td>\n      <td>9</td>\n      <td>93</td>\n    </tr>\n    <tr>\n      <th>2</th>\n      <td>0.329370</td>\n      <td>0.990669</td>\n      <td>3</td>\n      <td>30</td>\n    </tr>\n    <tr>\n      <th>3</th>\n      <td>0.656689</td>\n      <td>0.192124</td>\n      <td>6</td>\n      <td>64</td>\n    </tr>\n    <tr>\n      <th>4</th>\n      <td>0.695451</td>\n      <td>0.569823</td>\n      <td>6</td>\n      <td>68</td>\n    </tr>\n  </tbody>\n</table>\n</div>"
     },
     "metadata": {},
     "execution_count": 12
    }
   ],
   "source": [
    "# create bins of the numerical columns 10 bins\n",
    "\n",
    "df['f_bin_10'] = pd.cut(df[\"f_1\"], bins=10, labels= False)\n",
    "df['f_bin_100'] = pd.cut(df['f_1'], bins=100, labels= False)\n",
    "df.head()"
   ]
  },
  {
   "source": [
    "when you bin, you can use both the bin and the original feature. \n",
    "Another interesting type of feature that we can create from numerical features is log transformation. Take a look"
   ],
   "cell_type": "markdown",
   "metadata": {}
  },
  {
   "cell_type": "code",
   "execution_count": 21,
   "metadata": {},
   "outputs": [
    {
     "output_type": "execute_result",
     "data": {
      "text/plain": "        f_1       f_2  f_bin_10  f_bin_100       f_3\n0  0.105883  0.890724         0          7 -2.245423\n1  0.934053  0.608714         9         93 -0.068222\n2  0.329370  0.990669         3         30 -1.110573\n3  0.656689  0.192124         6         64 -0.420545\n4  0.695451  0.569823         6         68 -0.363194",
      "text/html": "<div>\n<style scoped>\n    .dataframe tbody tr th:only-of-type {\n        vertical-align: middle;\n    }\n\n    .dataframe tbody tr th {\n        vertical-align: top;\n    }\n\n    .dataframe thead th {\n        text-align: right;\n    }\n</style>\n<table border=\"1\" class=\"dataframe\">\n  <thead>\n    <tr style=\"text-align: right;\">\n      <th></th>\n      <th>f_1</th>\n      <th>f_2</th>\n      <th>f_bin_10</th>\n      <th>f_bin_100</th>\n      <th>f_3</th>\n    </tr>\n  </thead>\n  <tbody>\n    <tr>\n      <th>0</th>\n      <td>0.105883</td>\n      <td>0.890724</td>\n      <td>0</td>\n      <td>7</td>\n      <td>-2.245423</td>\n    </tr>\n    <tr>\n      <th>1</th>\n      <td>0.934053</td>\n      <td>0.608714</td>\n      <td>9</td>\n      <td>93</td>\n      <td>-0.068222</td>\n    </tr>\n    <tr>\n      <th>2</th>\n      <td>0.329370</td>\n      <td>0.990669</td>\n      <td>3</td>\n      <td>30</td>\n      <td>-1.110573</td>\n    </tr>\n    <tr>\n      <th>3</th>\n      <td>0.656689</td>\n      <td>0.192124</td>\n      <td>6</td>\n      <td>64</td>\n      <td>-0.420545</td>\n    </tr>\n    <tr>\n      <th>4</th>\n      <td>0.695451</td>\n      <td>0.569823</td>\n      <td>6</td>\n      <td>68</td>\n      <td>-0.363194</td>\n    </tr>\n  </tbody>\n</table>\n</div>"
     },
     "metadata": {},
     "execution_count": 21
    }
   ],
   "source": [
    "df['f_3'] = df['f_1'].apply(lambda x : np.log(x))\n",
    "df.head()"
   ]
  },
  {
   "cell_type": "code",
   "execution_count": 22,
   "metadata": {},
   "outputs": [
    {
     "output_type": "display_data",
     "data": {
      "text/plain": "&lt;Figure size 640x480 with 1 Axes&gt;",
      "image/svg+xml": "<?xml version=\"1.0\" encoding=\"utf-8\" standalone=\"no\"?>\r\n<!DOCTYPE svg PUBLIC \"-//W3C//DTD SVG 1.1//EN\"\r\n  \"http://www.w3.org/Graphics/SVG/1.1/DTD/svg11.dtd\">\r\n<!-- Created with matplotlib (https://matplotlib.org/) -->\r\n<svg height=\"381.420625pt\" version=\"1.1\" viewBox=\"0 0 489.611875 381.420625\" width=\"489.611875pt\" xmlns=\"http://www.w3.org/2000/svg\" xmlns:xlink=\"http://www.w3.org/1999/xlink\">\r\n <defs>\r\n  <style type=\"text/css\">\r\n*{stroke-linecap:butt;stroke-linejoin:round;}\r\n  </style>\r\n </defs>\r\n <g id=\"figure_1\">\r\n  <g id=\"patch_1\">\r\n   <path d=\"M 0 381.420625 \r\nL 489.611875 381.420625 \r\nL 489.611875 0 \r\nL 0 0 \r\nz\r\n\" style=\"fill:#bfbfbf;\"/>\r\n  </g>\r\n  <g id=\"axes_1\">\r\n   <g id=\"patch_2\">\r\n    <path d=\"M 26.47 358.606875 \r\nL 472.87 358.606875 \r\nL 472.87 13.006875 \r\nL 26.47 13.006875 \r\nz\r\n\" style=\"fill:#ffffff;\"/>\r\n   </g>\r\n   <g id=\"patch_3\">\r\n    <path clip-path=\"url(#pdfbddc74e0)\" d=\"M 45.03444 358.606875 \r\nL 87.759791 358.606875 \r\nL 87.759791 341.326875 \r\nL 45.03444 341.326875 \r\nz\r\n\" style=\"fill:#0000ff;stroke:#000000;stroke-linejoin:miter;\"/>\r\n   </g>\r\n   <g id=\"patch_4\">\r\n    <path clip-path=\"url(#pdfbddc74e0)\" d=\"M 87.759791 358.606875 \r\nL 130.485142 358.606875 \r\nL 130.485142 358.606875 \r\nL 87.759791 358.606875 \r\nz\r\n\" style=\"fill:#0000ff;stroke:#000000;stroke-linejoin:miter;\"/>\r\n   </g>\r\n   <g id=\"patch_5\">\r\n    <path clip-path=\"url(#pdfbddc74e0)\" d=\"M 130.485142 358.606875 \r\nL 173.210493 358.606875 \r\nL 173.210493 349.966875 \r\nL 130.485142 349.966875 \r\nz\r\n\" style=\"fill:#0000ff;stroke:#000000;stroke-linejoin:miter;\"/>\r\n   </g>\r\n   <g id=\"patch_6\">\r\n    <path clip-path=\"url(#pdfbddc74e0)\" d=\"M 173.210493 358.606875 \r\nL 215.935844 358.606875 \r\nL 215.935844 332.686875 \r\nL 173.210493 332.686875 \r\nz\r\n\" style=\"fill:#0000ff;stroke:#000000;stroke-linejoin:miter;\"/>\r\n   </g>\r\n   <g id=\"patch_7\">\r\n    <path clip-path=\"url(#pdfbddc74e0)\" d=\"M 215.935844 358.606875 \r\nL 258.661195 358.606875 \r\nL 258.661195 332.686875 \r\nL 215.935844 332.686875 \r\nz\r\n\" style=\"fill:#0000ff;stroke:#000000;stroke-linejoin:miter;\"/>\r\n   </g>\r\n   <g id=\"patch_8\">\r\n    <path clip-path=\"url(#pdfbddc74e0)\" d=\"M 258.661195 358.606875 \r\nL 301.386545 358.606875 \r\nL 301.386545 306.766875 \r\nL 258.661195 306.766875 \r\nz\r\n\" style=\"fill:#0000ff;stroke:#000000;stroke-linejoin:miter;\"/>\r\n   </g>\r\n   <g id=\"patch_9\">\r\n    <path clip-path=\"url(#pdfbddc74e0)\" d=\"M 301.386545 358.606875 \r\nL 344.111896 358.606875 \r\nL 344.111896 280.846875 \r\nL 301.386545 280.846875 \r\nz\r\n\" style=\"fill:#0000ff;stroke:#000000;stroke-linejoin:miter;\"/>\r\n   </g>\r\n   <g id=\"patch_10\">\r\n    <path clip-path=\"url(#pdfbddc74e0)\" d=\"M 344.111896 358.606875 \r\nL 386.837247 358.606875 \r\nL 386.837247 211.726875 \r\nL 344.111896 211.726875 \r\nz\r\n\" style=\"fill:#0000ff;stroke:#000000;stroke-linejoin:miter;\"/>\r\n   </g>\r\n   <g id=\"patch_11\">\r\n    <path clip-path=\"url(#pdfbddc74e0)\" d=\"M 386.837247 358.606875 \r\nL 429.562598 358.606875 \r\nL 429.562598 159.886875 \r\nL 386.837247 159.886875 \r\nz\r\n\" style=\"fill:#0000ff;stroke:#000000;stroke-linejoin:miter;\"/>\r\n   </g>\r\n   <g id=\"patch_12\">\r\n    <path clip-path=\"url(#pdfbddc74e0)\" d=\"M 429.562598 358.606875 \r\nL 472.287949 358.606875 \r\nL 472.287949 47.566875 \r\nL 429.562598 47.566875 \r\nz\r\n\" style=\"fill:#0000ff;stroke:#000000;stroke-linejoin:miter;\"/>\r\n   </g>\r\n   <g id=\"patch_13\">\r\n    <path d=\"M 26.47 358.606875 \r\nL 26.47 13.006875 \r\n\" style=\"fill:none;stroke:#000000;stroke-linecap:square;stroke-linejoin:miter;\"/>\r\n   </g>\r\n   <g id=\"patch_14\">\r\n    <path d=\"M 472.87 358.606875 \r\nL 472.87 13.006875 \r\n\" style=\"fill:none;stroke:#000000;stroke-linecap:square;stroke-linejoin:miter;\"/>\r\n   </g>\r\n   <g id=\"patch_15\">\r\n    <path d=\"M 26.47 358.606875 \r\nL 472.87 358.606875 \r\n\" style=\"fill:none;stroke:#000000;stroke-linecap:square;stroke-linejoin:miter;\"/>\r\n   </g>\r\n   <g id=\"patch_16\">\r\n    <path d=\"M 26.47 13.006875 \r\nL 472.87 13.006875 \r\n\" style=\"fill:none;stroke:#000000;stroke-linecap:square;stroke-linejoin:miter;\"/>\r\n   </g>\r\n   <g id=\"matplotlib.axis_1\">\r\n    <g id=\"xtick_1\">\r\n     <g id=\"line2d_1\">\r\n      <defs>\r\n       <path d=\"M 0 0 \r\nL 0 -4 \r\n\" id=\"m24602c0a79\" style=\"stroke:#000000;stroke-width:0.5;\"/>\r\n      </defs>\r\n      <g>\r\n       <use style=\"stroke:#000000;stroke-width:0.5;\" x=\"26.47\" xlink:href=\"#m24602c0a79\" y=\"358.606875\"/>\r\n      </g>\r\n     </g>\r\n     <g id=\"line2d_2\">\r\n      <defs>\r\n       <path d=\"M 0 0 \r\nL 0 4 \r\n\" id=\"mb557b02c02\" style=\"stroke:#000000;stroke-width:0.5;\"/>\r\n      </defs>\r\n      <g>\r\n       <use style=\"stroke:#000000;stroke-width:0.5;\" x=\"26.47\" xlink:href=\"#mb557b02c02\" y=\"13.006875\"/>\r\n      </g>\r\n     </g>\r\n     <g id=\"text_1\">\r\n      <!-- −3.5 -->\r\n      <defs>\r\n       <path d=\"M 10.59375 35.5 \r\nL 73.1875 35.5 \r\nL 73.1875 27.203125 \r\nL 10.59375 27.203125 \r\nz\r\n\" id=\"DejaVuSans-8722\"/>\r\n       <path d=\"M 40.578125 39.3125 \r\nQ 47.65625 37.796875 51.625 33 \r\nQ 55.609375 28.21875 55.609375 21.1875 \r\nQ 55.609375 10.40625 48.1875 4.484375 \r\nQ 40.765625 -1.421875 27.09375 -1.421875 \r\nQ 22.515625 -1.421875 17.65625 -0.515625 \r\nQ 12.796875 0.390625 7.625 2.203125 \r\nL 7.625 11.71875 \r\nQ 11.71875 9.328125 16.59375 8.109375 \r\nQ 21.484375 6.890625 26.8125 6.890625 \r\nQ 36.078125 6.890625 40.9375 10.546875 \r\nQ 45.796875 14.203125 45.796875 21.1875 \r\nQ 45.796875 27.640625 41.28125 31.265625 \r\nQ 36.765625 34.90625 28.71875 34.90625 \r\nL 20.21875 34.90625 \r\nL 20.21875 43.015625 \r\nL 29.109375 43.015625 \r\nQ 36.375 43.015625 40.234375 45.921875 \r\nQ 44.09375 48.828125 44.09375 54.296875 \r\nQ 44.09375 59.90625 40.109375 62.90625 \r\nQ 36.140625 65.921875 28.71875 65.921875 \r\nQ 24.65625 65.921875 20.015625 65.03125 \r\nQ 15.375 64.15625 9.8125 62.3125 \r\nL 9.8125 71.09375 \r\nQ 15.4375 72.65625 20.34375 73.4375 \r\nQ 25.25 74.21875 29.59375 74.21875 \r\nQ 40.828125 74.21875 47.359375 69.109375 \r\nQ 53.90625 64.015625 53.90625 55.328125 \r\nQ 53.90625 49.265625 50.4375 45.09375 \r\nQ 46.96875 40.921875 40.578125 39.3125 \r\nz\r\n\" id=\"DejaVuSans-51\"/>\r\n       <path d=\"M 10.6875 12.40625 \r\nL 21 12.40625 \r\nL 21 0 \r\nL 10.6875 0 \r\nz\r\n\" id=\"DejaVuSans-46\"/>\r\n       <path d=\"M 10.796875 72.90625 \r\nL 49.515625 72.90625 \r\nL 49.515625 64.59375 \r\nL 19.828125 64.59375 \r\nL 19.828125 46.734375 \r\nQ 21.96875 47.46875 24.109375 47.828125 \r\nQ 26.265625 48.1875 28.421875 48.1875 \r\nQ 40.625 48.1875 47.75 41.5 \r\nQ 54.890625 34.8125 54.890625 23.390625 \r\nQ 54.890625 11.625 47.5625 5.09375 \r\nQ 40.234375 -1.421875 26.90625 -1.421875 \r\nQ 22.3125 -1.421875 17.546875 -0.640625 \r\nQ 12.796875 0.140625 7.71875 1.703125 \r\nL 7.71875 11.625 \r\nQ 12.109375 9.234375 16.796875 8.0625 \r\nQ 21.484375 6.890625 26.703125 6.890625 \r\nQ 35.15625 6.890625 40.078125 11.328125 \r\nQ 45.015625 15.765625 45.015625 23.390625 \r\nQ 45.015625 31 40.078125 35.4375 \r\nQ 35.15625 39.890625 26.703125 39.890625 \r\nQ 22.75 39.890625 18.8125 39.015625 \r\nQ 14.890625 38.140625 10.796875 36.28125 \r\nz\r\n\" id=\"DejaVuSans-53\"/>\r\n      </defs>\r\n      <g transform=\"translate(11.900313 371.725)scale(0.12 -0.12)\">\r\n       <use xlink:href=\"#DejaVuSans-8722\"/>\r\n       <use x=\"83.789062\" xlink:href=\"#DejaVuSans-51\"/>\r\n       <use x=\"147.412109\" xlink:href=\"#DejaVuSans-46\"/>\r\n       <use x=\"179.199219\" xlink:href=\"#DejaVuSans-53\"/>\r\n      </g>\r\n     </g>\r\n    </g>\r\n    <g id=\"xtick_2\">\r\n     <g id=\"line2d_3\">\r\n      <g>\r\n       <use style=\"stroke:#000000;stroke-width:0.5;\" x=\"90.241429\" xlink:href=\"#m24602c0a79\" y=\"358.606875\"/>\r\n      </g>\r\n     </g>\r\n     <g id=\"line2d_4\">\r\n      <g>\r\n       <use style=\"stroke:#000000;stroke-width:0.5;\" x=\"90.241429\" xlink:href=\"#mb557b02c02\" y=\"13.006875\"/>\r\n      </g>\r\n     </g>\r\n     <g id=\"text_2\">\r\n      <!-- −3.0 -->\r\n      <defs>\r\n       <path d=\"M 31.78125 66.40625 \r\nQ 24.171875 66.40625 20.328125 58.90625 \r\nQ 16.5 51.421875 16.5 36.375 \r\nQ 16.5 21.390625 20.328125 13.890625 \r\nQ 24.171875 6.390625 31.78125 6.390625 \r\nQ 39.453125 6.390625 43.28125 13.890625 \r\nQ 47.125 21.390625 47.125 36.375 \r\nQ 47.125 51.421875 43.28125 58.90625 \r\nQ 39.453125 66.40625 31.78125 66.40625 \r\nz\r\nM 31.78125 74.21875 \r\nQ 44.046875 74.21875 50.515625 64.515625 \r\nQ 56.984375 54.828125 56.984375 36.375 \r\nQ 56.984375 17.96875 50.515625 8.265625 \r\nQ 44.046875 -1.421875 31.78125 -1.421875 \r\nQ 19.53125 -1.421875 13.0625 8.265625 \r\nQ 6.59375 17.96875 6.59375 36.375 \r\nQ 6.59375 54.828125 13.0625 64.515625 \r\nQ 19.53125 74.21875 31.78125 74.21875 \r\nz\r\n\" id=\"DejaVuSans-48\"/>\r\n      </defs>\r\n      <g transform=\"translate(75.671741 371.725)scale(0.12 -0.12)\">\r\n       <use xlink:href=\"#DejaVuSans-8722\"/>\r\n       <use x=\"83.789062\" xlink:href=\"#DejaVuSans-51\"/>\r\n       <use x=\"147.412109\" xlink:href=\"#DejaVuSans-46\"/>\r\n       <use x=\"179.199219\" xlink:href=\"#DejaVuSans-48\"/>\r\n      </g>\r\n     </g>\r\n    </g>\r\n    <g id=\"xtick_3\">\r\n     <g id=\"line2d_5\">\r\n      <g>\r\n       <use style=\"stroke:#000000;stroke-width:0.5;\" x=\"154.012857\" xlink:href=\"#m24602c0a79\" y=\"358.606875\"/>\r\n      </g>\r\n     </g>\r\n     <g id=\"line2d_6\">\r\n      <g>\r\n       <use style=\"stroke:#000000;stroke-width:0.5;\" x=\"154.012857\" xlink:href=\"#mb557b02c02\" y=\"13.006875\"/>\r\n      </g>\r\n     </g>\r\n     <g id=\"text_3\">\r\n      <!-- −2.5 -->\r\n      <defs>\r\n       <path d=\"M 19.1875 8.296875 \r\nL 53.609375 8.296875 \r\nL 53.609375 0 \r\nL 7.328125 0 \r\nL 7.328125 8.296875 \r\nQ 12.9375 14.109375 22.625 23.890625 \r\nQ 32.328125 33.6875 34.8125 36.53125 \r\nQ 39.546875 41.84375 41.421875 45.53125 \r\nQ 43.3125 49.21875 43.3125 52.78125 \r\nQ 43.3125 58.59375 39.234375 62.25 \r\nQ 35.15625 65.921875 28.609375 65.921875 \r\nQ 23.96875 65.921875 18.8125 64.3125 \r\nQ 13.671875 62.703125 7.8125 59.421875 \r\nL 7.8125 69.390625 \r\nQ 13.765625 71.78125 18.9375 73 \r\nQ 24.125 74.21875 28.421875 74.21875 \r\nQ 39.75 74.21875 46.484375 68.546875 \r\nQ 53.21875 62.890625 53.21875 53.421875 \r\nQ 53.21875 48.921875 51.53125 44.890625 \r\nQ 49.859375 40.875 45.40625 35.40625 \r\nQ 44.1875 33.984375 37.640625 27.21875 \r\nQ 31.109375 20.453125 19.1875 8.296875 \r\nz\r\n\" id=\"DejaVuSans-50\"/>\r\n      </defs>\r\n      <g transform=\"translate(139.44317 371.725)scale(0.12 -0.12)\">\r\n       <use xlink:href=\"#DejaVuSans-8722\"/>\r\n       <use x=\"83.789062\" xlink:href=\"#DejaVuSans-50\"/>\r\n       <use x=\"147.412109\" xlink:href=\"#DejaVuSans-46\"/>\r\n       <use x=\"179.199219\" xlink:href=\"#DejaVuSans-53\"/>\r\n      </g>\r\n     </g>\r\n    </g>\r\n    <g id=\"xtick_4\">\r\n     <g id=\"line2d_7\">\r\n      <g>\r\n       <use style=\"stroke:#000000;stroke-width:0.5;\" x=\"217.784286\" xlink:href=\"#m24602c0a79\" y=\"358.606875\"/>\r\n      </g>\r\n     </g>\r\n     <g id=\"line2d_8\">\r\n      <g>\r\n       <use style=\"stroke:#000000;stroke-width:0.5;\" x=\"217.784286\" xlink:href=\"#mb557b02c02\" y=\"13.006875\"/>\r\n      </g>\r\n     </g>\r\n     <g id=\"text_4\">\r\n      <!-- −2.0 -->\r\n      <g transform=\"translate(203.214598 371.725)scale(0.12 -0.12)\">\r\n       <use xlink:href=\"#DejaVuSans-8722\"/>\r\n       <use x=\"83.789062\" xlink:href=\"#DejaVuSans-50\"/>\r\n       <use x=\"147.412109\" xlink:href=\"#DejaVuSans-46\"/>\r\n       <use x=\"179.199219\" xlink:href=\"#DejaVuSans-48\"/>\r\n      </g>\r\n     </g>\r\n    </g>\r\n    <g id=\"xtick_5\">\r\n     <g id=\"line2d_9\">\r\n      <g>\r\n       <use style=\"stroke:#000000;stroke-width:0.5;\" x=\"281.555714\" xlink:href=\"#m24602c0a79\" y=\"358.606875\"/>\r\n      </g>\r\n     </g>\r\n     <g id=\"line2d_10\">\r\n      <g>\r\n       <use style=\"stroke:#000000;stroke-width:0.5;\" x=\"281.555714\" xlink:href=\"#mb557b02c02\" y=\"13.006875\"/>\r\n      </g>\r\n     </g>\r\n     <g id=\"text_5\">\r\n      <!-- −1.5 -->\r\n      <defs>\r\n       <path d=\"M 12.40625 8.296875 \r\nL 28.515625 8.296875 \r\nL 28.515625 63.921875 \r\nL 10.984375 60.40625 \r\nL 10.984375 69.390625 \r\nL 28.421875 72.90625 \r\nL 38.28125 72.90625 \r\nL 38.28125 8.296875 \r\nL 54.390625 8.296875 \r\nL 54.390625 0 \r\nL 12.40625 0 \r\nz\r\n\" id=\"DejaVuSans-49\"/>\r\n      </defs>\r\n      <g transform=\"translate(266.986027 371.725)scale(0.12 -0.12)\">\r\n       <use xlink:href=\"#DejaVuSans-8722\"/>\r\n       <use x=\"83.789062\" xlink:href=\"#DejaVuSans-49\"/>\r\n       <use x=\"147.412109\" xlink:href=\"#DejaVuSans-46\"/>\r\n       <use x=\"179.199219\" xlink:href=\"#DejaVuSans-53\"/>\r\n      </g>\r\n     </g>\r\n    </g>\r\n    <g id=\"xtick_6\">\r\n     <g id=\"line2d_11\">\r\n      <g>\r\n       <use style=\"stroke:#000000;stroke-width:0.5;\" x=\"345.327143\" xlink:href=\"#m24602c0a79\" y=\"358.606875\"/>\r\n      </g>\r\n     </g>\r\n     <g id=\"line2d_12\">\r\n      <g>\r\n       <use style=\"stroke:#000000;stroke-width:0.5;\" x=\"345.327143\" xlink:href=\"#mb557b02c02\" y=\"13.006875\"/>\r\n      </g>\r\n     </g>\r\n     <g id=\"text_6\">\r\n      <!-- −1.0 -->\r\n      <g transform=\"translate(330.757455 371.725)scale(0.12 -0.12)\">\r\n       <use xlink:href=\"#DejaVuSans-8722\"/>\r\n       <use x=\"83.789062\" xlink:href=\"#DejaVuSans-49\"/>\r\n       <use x=\"147.412109\" xlink:href=\"#DejaVuSans-46\"/>\r\n       <use x=\"179.199219\" xlink:href=\"#DejaVuSans-48\"/>\r\n      </g>\r\n     </g>\r\n    </g>\r\n    <g id=\"xtick_7\">\r\n     <g id=\"line2d_13\">\r\n      <g>\r\n       <use style=\"stroke:#000000;stroke-width:0.5;\" x=\"409.098571\" xlink:href=\"#m24602c0a79\" y=\"358.606875\"/>\r\n      </g>\r\n     </g>\r\n     <g id=\"line2d_14\">\r\n      <g>\r\n       <use style=\"stroke:#000000;stroke-width:0.5;\" x=\"409.098571\" xlink:href=\"#mb557b02c02\" y=\"13.006875\"/>\r\n      </g>\r\n     </g>\r\n     <g id=\"text_7\">\r\n      <!-- −0.5 -->\r\n      <g transform=\"translate(394.528884 371.725)scale(0.12 -0.12)\">\r\n       <use xlink:href=\"#DejaVuSans-8722\"/>\r\n       <use x=\"83.789062\" xlink:href=\"#DejaVuSans-48\"/>\r\n       <use x=\"147.412109\" xlink:href=\"#DejaVuSans-46\"/>\r\n       <use x=\"179.199219\" xlink:href=\"#DejaVuSans-53\"/>\r\n      </g>\r\n     </g>\r\n    </g>\r\n    <g id=\"xtick_8\">\r\n     <g id=\"line2d_15\">\r\n      <g>\r\n       <use style=\"stroke:#000000;stroke-width:0.5;\" x=\"472.87\" xlink:href=\"#m24602c0a79\" y=\"358.606875\"/>\r\n      </g>\r\n     </g>\r\n     <g id=\"line2d_16\">\r\n      <g>\r\n       <use style=\"stroke:#000000;stroke-width:0.5;\" x=\"472.87\" xlink:href=\"#mb557b02c02\" y=\"13.006875\"/>\r\n      </g>\r\n     </g>\r\n     <g id=\"text_8\">\r\n      <!-- 0.0 -->\r\n      <g transform=\"translate(463.328125 371.725)scale(0.12 -0.12)\">\r\n       <use xlink:href=\"#DejaVuSans-48\"/>\r\n       <use x=\"63.623047\" xlink:href=\"#DejaVuSans-46\"/>\r\n       <use x=\"95.410156\" xlink:href=\"#DejaVuSans-48\"/>\r\n      </g>\r\n     </g>\r\n    </g>\r\n   </g>\r\n   <g id=\"matplotlib.axis_2\">\r\n    <g id=\"ytick_1\">\r\n     <g id=\"line2d_17\">\r\n      <defs>\r\n       <path d=\"M 0 0 \r\nL 4 0 \r\n\" id=\"m4a12f1034d\" style=\"stroke:#000000;stroke-width:0.5;\"/>\r\n      </defs>\r\n      <g>\r\n       <use style=\"stroke:#000000;stroke-width:0.5;\" x=\"26.47\" xlink:href=\"#m4a12f1034d\" y=\"358.606875\"/>\r\n      </g>\r\n     </g>\r\n     <g id=\"line2d_18\">\r\n      <defs>\r\n       <path d=\"M 0 0 \r\nL -4 0 \r\n\" id=\"mf3c4b15d9d\" style=\"stroke:#000000;stroke-width:0.5;\"/>\r\n      </defs>\r\n      <g>\r\n       <use style=\"stroke:#000000;stroke-width:0.5;\" x=\"472.87\" xlink:href=\"#mf3c4b15d9d\" y=\"358.606875\"/>\r\n      </g>\r\n     </g>\r\n     <g id=\"text_9\">\r\n      <!-- 0 -->\r\n      <g transform=\"translate(14.835 361.918125)scale(0.12 -0.12)\">\r\n       <use xlink:href=\"#DejaVuSans-48\"/>\r\n      </g>\r\n     </g>\r\n    </g>\r\n    <g id=\"ytick_2\">\r\n     <g id=\"line2d_19\">\r\n      <g>\r\n       <use style=\"stroke:#000000;stroke-width:0.5;\" x=\"26.47\" xlink:href=\"#m4a12f1034d\" y=\"315.406875\"/>\r\n      </g>\r\n     </g>\r\n     <g id=\"line2d_20\">\r\n      <g>\r\n       <use style=\"stroke:#000000;stroke-width:0.5;\" x=\"472.87\" xlink:href=\"#mf3c4b15d9d\" y=\"315.406875\"/>\r\n      </g>\r\n     </g>\r\n     <g id=\"text_10\">\r\n      <!-- 5 -->\r\n      <g transform=\"translate(14.835 318.718125)scale(0.12 -0.12)\">\r\n       <use xlink:href=\"#DejaVuSans-53\"/>\r\n      </g>\r\n     </g>\r\n    </g>\r\n    <g id=\"ytick_3\">\r\n     <g id=\"line2d_21\">\r\n      <g>\r\n       <use style=\"stroke:#000000;stroke-width:0.5;\" x=\"26.47\" xlink:href=\"#m4a12f1034d\" y=\"272.206875\"/>\r\n      </g>\r\n     </g>\r\n     <g id=\"line2d_22\">\r\n      <g>\r\n       <use style=\"stroke:#000000;stroke-width:0.5;\" x=\"472.87\" xlink:href=\"#mf3c4b15d9d\" y=\"272.206875\"/>\r\n      </g>\r\n     </g>\r\n     <g id=\"text_11\">\r\n      <!-- 10 -->\r\n      <g transform=\"translate(7.2 275.518125)scale(0.12 -0.12)\">\r\n       <use xlink:href=\"#DejaVuSans-49\"/>\r\n       <use x=\"63.623047\" xlink:href=\"#DejaVuSans-48\"/>\r\n      </g>\r\n     </g>\r\n    </g>\r\n    <g id=\"ytick_4\">\r\n     <g id=\"line2d_23\">\r\n      <g>\r\n       <use style=\"stroke:#000000;stroke-width:0.5;\" x=\"26.47\" xlink:href=\"#m4a12f1034d\" y=\"229.006875\"/>\r\n      </g>\r\n     </g>\r\n     <g id=\"line2d_24\">\r\n      <g>\r\n       <use style=\"stroke:#000000;stroke-width:0.5;\" x=\"472.87\" xlink:href=\"#mf3c4b15d9d\" y=\"229.006875\"/>\r\n      </g>\r\n     </g>\r\n     <g id=\"text_12\">\r\n      <!-- 15 -->\r\n      <g transform=\"translate(7.2 232.318125)scale(0.12 -0.12)\">\r\n       <use xlink:href=\"#DejaVuSans-49\"/>\r\n       <use x=\"63.623047\" xlink:href=\"#DejaVuSans-53\"/>\r\n      </g>\r\n     </g>\r\n    </g>\r\n    <g id=\"ytick_5\">\r\n     <g id=\"line2d_25\">\r\n      <g>\r\n       <use style=\"stroke:#000000;stroke-width:0.5;\" x=\"26.47\" xlink:href=\"#m4a12f1034d\" y=\"185.806875\"/>\r\n      </g>\r\n     </g>\r\n     <g id=\"line2d_26\">\r\n      <g>\r\n       <use style=\"stroke:#000000;stroke-width:0.5;\" x=\"472.87\" xlink:href=\"#mf3c4b15d9d\" y=\"185.806875\"/>\r\n      </g>\r\n     </g>\r\n     <g id=\"text_13\">\r\n      <!-- 20 -->\r\n      <g transform=\"translate(7.2 189.118125)scale(0.12 -0.12)\">\r\n       <use xlink:href=\"#DejaVuSans-50\"/>\r\n       <use x=\"63.623047\" xlink:href=\"#DejaVuSans-48\"/>\r\n      </g>\r\n     </g>\r\n    </g>\r\n    <g id=\"ytick_6\">\r\n     <g id=\"line2d_27\">\r\n      <g>\r\n       <use style=\"stroke:#000000;stroke-width:0.5;\" x=\"26.47\" xlink:href=\"#m4a12f1034d\" y=\"142.606875\"/>\r\n      </g>\r\n     </g>\r\n     <g id=\"line2d_28\">\r\n      <g>\r\n       <use style=\"stroke:#000000;stroke-width:0.5;\" x=\"472.87\" xlink:href=\"#mf3c4b15d9d\" y=\"142.606875\"/>\r\n      </g>\r\n     </g>\r\n     <g id=\"text_14\">\r\n      <!-- 25 -->\r\n      <g transform=\"translate(7.2 145.918125)scale(0.12 -0.12)\">\r\n       <use xlink:href=\"#DejaVuSans-50\"/>\r\n       <use x=\"63.623047\" xlink:href=\"#DejaVuSans-53\"/>\r\n      </g>\r\n     </g>\r\n    </g>\r\n    <g id=\"ytick_7\">\r\n     <g id=\"line2d_29\">\r\n      <g>\r\n       <use style=\"stroke:#000000;stroke-width:0.5;\" x=\"26.47\" xlink:href=\"#m4a12f1034d\" y=\"99.406875\"/>\r\n      </g>\r\n     </g>\r\n     <g id=\"line2d_30\">\r\n      <g>\r\n       <use style=\"stroke:#000000;stroke-width:0.5;\" x=\"472.87\" xlink:href=\"#mf3c4b15d9d\" y=\"99.406875\"/>\r\n      </g>\r\n     </g>\r\n     <g id=\"text_15\">\r\n      <!-- 30 -->\r\n      <g transform=\"translate(7.2 102.718125)scale(0.12 -0.12)\">\r\n       <use xlink:href=\"#DejaVuSans-51\"/>\r\n       <use x=\"63.623047\" xlink:href=\"#DejaVuSans-48\"/>\r\n      </g>\r\n     </g>\r\n    </g>\r\n    <g id=\"ytick_8\">\r\n     <g id=\"line2d_31\">\r\n      <g>\r\n       <use style=\"stroke:#000000;stroke-width:0.5;\" x=\"26.47\" xlink:href=\"#m4a12f1034d\" y=\"56.206875\"/>\r\n      </g>\r\n     </g>\r\n     <g id=\"line2d_32\">\r\n      <g>\r\n       <use style=\"stroke:#000000;stroke-width:0.5;\" x=\"472.87\" xlink:href=\"#mf3c4b15d9d\" y=\"56.206875\"/>\r\n      </g>\r\n     </g>\r\n     <g id=\"text_16\">\r\n      <!-- 35 -->\r\n      <g transform=\"translate(7.2 59.518125)scale(0.12 -0.12)\">\r\n       <use xlink:href=\"#DejaVuSans-51\"/>\r\n       <use x=\"63.623047\" xlink:href=\"#DejaVuSans-53\"/>\r\n      </g>\r\n     </g>\r\n    </g>\r\n    <g id=\"ytick_9\">\r\n     <g id=\"line2d_33\">\r\n      <g>\r\n       <use style=\"stroke:#000000;stroke-width:0.5;\" x=\"26.47\" xlink:href=\"#m4a12f1034d\" y=\"13.006875\"/>\r\n      </g>\r\n     </g>\r\n     <g id=\"line2d_34\">\r\n      <g>\r\n       <use style=\"stroke:#000000;stroke-width:0.5;\" x=\"472.87\" xlink:href=\"#mf3c4b15d9d\" y=\"13.006875\"/>\r\n      </g>\r\n     </g>\r\n     <g id=\"text_17\">\r\n      <!-- 40 -->\r\n      <defs>\r\n       <path d=\"M 37.796875 64.3125 \r\nL 12.890625 25.390625 \r\nL 37.796875 25.390625 \r\nz\r\nM 35.203125 72.90625 \r\nL 47.609375 72.90625 \r\nL 47.609375 25.390625 \r\nL 58.015625 25.390625 \r\nL 58.015625 17.1875 \r\nL 47.609375 17.1875 \r\nL 47.609375 0 \r\nL 37.796875 0 \r\nL 37.796875 17.1875 \r\nL 4.890625 17.1875 \r\nL 4.890625 26.703125 \r\nz\r\n\" id=\"DejaVuSans-52\"/>\r\n      </defs>\r\n      <g transform=\"translate(7.2 16.318125)scale(0.12 -0.12)\">\r\n       <use xlink:href=\"#DejaVuSans-52\"/>\r\n       <use x=\"63.623047\" xlink:href=\"#DejaVuSans-48\"/>\r\n      </g>\r\n     </g>\r\n    </g>\r\n   </g>\r\n  </g>\r\n </g>\r\n <defs>\r\n  <clipPath id=\"pdfbddc74e0\">\r\n   <rect height=\"345.6\" width=\"446.4\" x=\"26.47\" y=\"13.006875\"/>\r\n  </clipPath>\r\n </defs>\r\n</svg>\r\n",
      "image/png": "[encoded data removed]"
     },
     "metadata": {}
    }
   ],
   "source": [
    "style.use('classic')\n",
    "plt.hist(df['f_3'])\n",
    "plt.show()"
   ]
  },
  {
   "source": [
    "*f_3* is a special feature with a very high variance. Compared to other features that have a low variance (let's assume that). Thus, we would want to reduce the variance of this column, and that can be done by taking a log transformation"
   ],
   "cell_type": "markdown",
   "metadata": {}
  },
  {
   "source": [
    "Sometimes, instead of log, you can also take exponential. A vary interesting case is when you use a log-based evaluation metric, for example, RMSLE. In that case, you can train on log-transformed targets and convert back to original using exponential on the prediction. That would help optimize the model for the metric. Most of the time , these kinds of numerical features are created based on intuition. There is no formula. If you are working in an industry , you will create your industry-specific features."
   ],
   "cell_type": "markdown",
   "metadata": {}
  },
  {
   "source": [
    "When dealing with both categorical and numerical variables , you might encounter missing values. \n",
    "For categorical features, let's keep it super simple .*If you ever encounter missing values in categorical features,treat is as a new category!* it almost always works!\n",
    "\n",
    "One way to fill missing values in numerical data would be to choose a value that does not appear in the specific feature and fill using that. For example , let's say 0 is not seen in the feature. So, we fill all the missing value using 0. This is one of the ways but might not be the most effective. One of the methods that works better than filling 0s for numerical data is to fill with mean instead. You can fill with the median ,  most common values as well.\n",
    "A fancy way of filling in the missing values would be to use a **k-nearest neighbour** method. you can select a sample with missing values and find the nearest neighbour utiliseing some kind of distance metric, for example, euclidean distance. Then you can take the mean of all nearest neighbour and fill up the missing value. \n",
    "You can use the KNN imputer implementation for filling missing values"
   ],
   "cell_type": "markdown",
   "metadata": {}
  },
  {
   "cell_type": "code",
   "execution_count": 3,
   "metadata": {
    "tags": []
   },
   "outputs": [
    {
     "output_type": "stream",
     "name": "stdout",
     "text": "original data\n\n[[11. 12.  1. 13.  6.  8.]\n [ 5.  1.  2.  8. 10.  2.]\n [ 8. 14.  3.  6.  4.  8.]\n [ 1.  5. 12.  7. 10.  8.]\n [12.  2. 11.  6. 11.  1.]\n [ 7. 11.  6. 14.  5. 13.]\n [14. 12. 12.  4. 11.  8.]\n [ 8.  3.  1. 12.  3.  1.]\n [ 7.  2. 13. 14. 10.  5.]\n [ 9.  9. 13.  3. 12.  5.]]\ndata after nan\n\n[[11. 12.  1. 13.  6.  8.]\n [ 5.  1.  2. nan 10.  2.]\n [ 8. 14.  3.  6.  4.  8.]\n [ 1.  5. nan  7. nan  8.]\n [nan  2. 11.  6. 11.  1.]\n [ 7. 11. nan nan  5. 13.]\n [14. nan 12.  4. 11.  8.]\n [ 8.  3.  1. 12. nan  1.]\n [ 7. nan 13. 14. nan  5.]\n [ 9.  9. 13.  3. 12.  5.]]\ndata after imputation\n\n[[11.  12.   1.  13.   6.   8. ]\n [ 5.   1.   2.   9.  10.   2. ]\n [ 8.  14.   3.   6.   4.   8. ]\n [ 1.   5.   6.5  7.  10.5  8. ]\n [11.5  2.  11.   6.  11.   1. ]\n [ 7.  11.   2.   9.5  5.  13. ]\n [14.   5.5 12.   4.  11.   8. ]\n [ 8.   3.   1.  12.   8.   1. ]\n [ 7.   5.5 13.  14.  11.5  5. ]\n [ 9.   9.  13.   3.  12.   5. ]]\n"
    }
   ],
   "source": [
    "# KNNImputer\n",
    "import numpy as np \n",
    "from sklearn import impute\n",
    "\n",
    "#create a random numpy array with 10 samples and 6 features and values ranging from 1 to 15\n",
    "x = np.random.randint(1 , 15 ,(10 , 6))\n",
    "\n",
    "# convert the array to float\n",
    "x = x.astype(float)\n",
    "print('original data\\n')\n",
    "print(x)\n",
    "# randomly assign 10 element to NaN (missing)\n",
    "\n",
    "x.ravel()[np.random.choice(x.size , 10 , replace= False)] = np.nan\n",
    "print('data after nan\\n')\n",
    "print(x)\n",
    "# use 3 nearest neighbour to fill na values\n",
    "knn_imputer = impute.KNNImputer(n_neighbors= 2)\n",
    "x = knn_imputer.fit_transform(x)\n",
    "print('data after imputation\\n')\n",
    "print(x)"
   ]
  },
  {
   "source": [
    "*Another way of imputing missing values in a column would be to train a regression model that tries to predict missing values in a column based on other columns.*\n",
    "\n",
    "The column with missing values will be the **\"target\"** column and rest will be the **\"feature\"** column, Train a model on samples for which there is no missing values in the concerned column and then try to predict target (the same column) for the sample that were removed earlier.\n",
    "\n",
    "**Always remember that imputing values for tree based models is unneccessary as they can handle it themselves.**"
   ],
   "cell_type": "markdown",
   "metadata": {}
  },
  {
   "cell_type": "code",
   "execution_count": null,
   "metadata": {},
   "outputs": [],
   "source": []
  }
 ]
}